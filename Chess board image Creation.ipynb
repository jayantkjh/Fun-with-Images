{
 "cells": [
  {
   "cell_type": "markdown",
   "id": "1d0b62af",
   "metadata": {},
   "source": [
    "# Let's create a Chess Board "
   ]
  },
  {
   "cell_type": "code",
   "execution_count": 13,
   "id": "09721842",
   "metadata": {},
   "outputs": [],
   "source": [
    "import numpy as np\n",
    "import cv2\n",
    "import time"
   ]
  },
  {
   "cell_type": "code",
   "execution_count": 14,
   "id": "458387c7",
   "metadata": {},
   "outputs": [],
   "source": [
    "pic =np.zeros((800,800,3))"
   ]
  },
  {
   "cell_type": "code",
   "execution_count": 15,
   "id": "d3e5149d",
   "metadata": {},
   "outputs": [
    {
     "data": {
      "text/plain": [
       "(800, 800, 3)"
      ]
     },
     "execution_count": 15,
     "metadata": {},
     "output_type": "execute_result"
    }
   ],
   "source": [
    "pic.shape\n"
   ]
  },
  {
   "cell_type": "code",
   "execution_count": 16,
   "id": "ec3cdb8d",
   "metadata": {},
   "outputs": [
    {
     "data": {
      "text/plain": [
       "True"
      ]
     },
     "execution_count": 16,
     "metadata": {},
     "output_type": "execute_result"
    }
   ],
   "source": [
    "l=0\n",
    "m=0\n",
    "count=1\n",
    "while(count<=4): \n",
    "    for j in range(4):\n",
    "        pic[l:l+100,m:m+100]=[169,169,169]\n",
    "        m=m+200\n",
    "        cv2.imshow('Chess Board', pic)\n",
    "        cv2.waitKey(150)\n",
    "    l=100*(2*count-1)\n",
    "    m=0\n",
    "\n",
    "    for j in range(4):\n",
    "        pic[l:l+100,m+100:m+200]=[169,169,169]\n",
    "        m=m+200\n",
    "        cv2.imshow('Chess Board', pic)\n",
    "        cv2.waitKey(150)\n",
    "        \n",
    "    m=0\n",
    "    l=200*count\n",
    "    \n",
    "\n",
    "    count=count+1\n",
    "time.sleep(1)\n",
    "cv2.destroyAllWindows()\n",
    "cv2.imwrite('Chess_Board_image.png',pic)\n",
    "   \n",
    "    \n",
    "    "
   ]
  },
  {
   "cell_type": "code",
   "execution_count": null,
   "id": "56129617",
   "metadata": {},
   "outputs": [],
   "source": []
  },
  {
   "cell_type": "code",
   "execution_count": null,
   "id": "383c8c4a",
   "metadata": {},
   "outputs": [],
   "source": []
  },
  {
   "cell_type": "code",
   "execution_count": null,
   "id": "1fcaba10",
   "metadata": {},
   "outputs": [],
   "source": []
  }
 ],
 "metadata": {
  "kernelspec": {
   "display_name": "Python 3",
   "language": "python",
   "name": "python3"
  },
  "language_info": {
   "codemirror_mode": {
    "name": "ipython",
    "version": 3
   },
   "file_extension": ".py",
   "mimetype": "text/x-python",
   "name": "python",
   "nbconvert_exporter": "python",
   "pygments_lexer": "ipython3",
   "version": "3.8.8"
  }
 },
 "nbformat": 4,
 "nbformat_minor": 5
}
