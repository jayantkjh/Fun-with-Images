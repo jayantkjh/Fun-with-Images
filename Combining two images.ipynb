{
 "cells": [
  {
   "cell_type": "markdown",
   "id": "30b32b6d",
   "metadata": {},
   "source": [
    "#                                             Make a Photo Collage "
   ]
  },
  {
   "cell_type": "code",
   "execution_count": 36,
   "id": "f8e14012",
   "metadata": {},
   "outputs": [],
   "source": [
    "import cv2\n",
    "import numpy as np"
   ]
  },
  {
   "cell_type": "code",
   "execution_count": 37,
   "id": "0fd651b0",
   "metadata": {},
   "outputs": [],
   "source": [
    "#1st Image\n",
    "photo1=cv2.imread('arya.jpg')\n",
    "cv2.imshow('arya',photo1)\n",
    "cv2.waitKey()\n",
    "cv2.destroyAllWindows()"
   ]
  },
  {
   "cell_type": "code",
   "execution_count": 38,
   "id": "ce86b136",
   "metadata": {},
   "outputs": [],
   "source": [
    "#2nd image\n",
    "photo2=cv2.imread('daenerys.jpg')\n",
    "cv2.imshow('daenerys',photo2)\n",
    "cv2.waitKey()\n",
    "cv2.destroyAllWindows()"
   ]
  },
  {
   "cell_type": "code",
   "execution_count": 39,
   "id": "6d0f018f",
   "metadata": {},
   "outputs": [
    {
     "data": {
      "text/plain": [
       "(410, 728, 3)"
      ]
     },
     "execution_count": 39,
     "metadata": {},
     "output_type": "execute_result"
    }
   ],
   "source": [
    "photo1.shape"
   ]
  },
  {
   "cell_type": "code",
   "execution_count": 40,
   "id": "b251f034",
   "metadata": {},
   "outputs": [
    {
     "data": {
      "text/plain": [
       "(486, 728, 3)"
      ]
     },
     "execution_count": 40,
     "metadata": {},
     "output_type": "execute_result"
    }
   ],
   "source": [
    "photo2.shape"
   ]
  },
  {
   "cell_type": "code",
   "execution_count": 41,
   "id": "7deb7692",
   "metadata": {},
   "outputs": [],
   "source": [
    "photo1= cv2.resize(photo1, (728,486))"
   ]
  },
  {
   "cell_type": "code",
   "execution_count": 42,
   "id": "29b28cb7",
   "metadata": {},
   "outputs": [
    {
     "data": {
      "text/plain": [
       "(486, 728, 3)"
      ]
     },
     "execution_count": 42,
     "metadata": {},
     "output_type": "execute_result"
    }
   ],
   "source": [
    "photo1.shape"
   ]
  },
  {
   "cell_type": "code",
   "execution_count": 43,
   "id": "def0c841",
   "metadata": {},
   "outputs": [],
   "source": [
    "pic= 255 * np.ones(shape=[550, 1500, 3], dtype=np.uint8)"
   ]
  },
  {
   "cell_type": "code",
   "execution_count": 44,
   "id": "2bd26c2c",
   "metadata": {},
   "outputs": [
    {
     "data": {
      "text/plain": [
       "(550, 1500, 3)"
      ]
     },
     "execution_count": 44,
     "metadata": {},
     "output_type": "execute_result"
    }
   ],
   "source": [
    "pic.shape\n"
   ]
  },
  {
   "cell_type": "code",
   "execution_count": 45,
   "id": "30b4a665",
   "metadata": {},
   "outputs": [],
   "source": [
    "pic[14:500,22:750]=photo1\n",
    "pic[14:500,772:1500]=photo2"
   ]
  },
  {
   "cell_type": "code",
   "execution_count": 46,
   "id": "8b126876",
   "metadata": {},
   "outputs": [],
   "source": [
    "#Displaying the final collage\n",
    "cv2.imshow('Final',pic)\n",
    "cv2.waitKey()\n",
    "cv2.destroyAllWindows()"
   ]
  },
  {
   "cell_type": "code",
   "execution_count": null,
   "id": "839b0b5b",
   "metadata": {},
   "outputs": [],
   "source": []
  },
  {
   "cell_type": "code",
   "execution_count": null,
   "id": "063e47a3",
   "metadata": {},
   "outputs": [],
   "source": []
  }
 ],
 "metadata": {
  "kernelspec": {
   "display_name": "Python 3",
   "language": "python",
   "name": "python3"
  },
  "language_info": {
   "codemirror_mode": {
    "name": "ipython",
    "version": 3
   },
   "file_extension": ".py",
   "mimetype": "text/x-python",
   "name": "python",
   "nbconvert_exporter": "python",
   "pygments_lexer": "ipython3",
   "version": "3.8.8"
  }
 },
 "nbformat": 4,
 "nbformat_minor": 5
}
