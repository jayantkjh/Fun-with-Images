{
 "cells": [
  {
   "cell_type": "markdown",
   "id": "334c5070",
   "metadata": {},
   "source": [
    "# Take 2 image crop some part of both image and swap it. "
   ]
  },
  {
   "cell_type": "code",
   "execution_count": 52,
   "id": "1374e09a",
   "metadata": {},
   "outputs": [],
   "source": [
    "import cv2"
   ]
  },
  {
   "cell_type": "code",
   "execution_count": 53,
   "id": "a900bd75",
   "metadata": {},
   "outputs": [],
   "source": [
    "photo1=cv2.imread('image1.jpg')"
   ]
  },
  {
   "cell_type": "code",
   "execution_count": 54,
   "id": "391fd3fa",
   "metadata": {},
   "outputs": [
    {
     "data": {
      "text/plain": [
       "(720, 1280, 3)"
      ]
     },
     "execution_count": 54,
     "metadata": {},
     "output_type": "execute_result"
    }
   ],
   "source": [
    "photo1.shape\n"
   ]
  },
  {
   "cell_type": "code",
   "execution_count": 55,
   "id": "c033b5eb",
   "metadata": {},
   "outputs": [],
   "source": [
    "cv2.imshow('image1', photo1)\n",
    "cv2.waitKey()\n",
    "cv2.destroyAllWindows()"
   ]
  },
  {
   "cell_type": "code",
   "execution_count": 56,
   "id": "2f312c70",
   "metadata": {},
   "outputs": [],
   "source": [
    "cr1=photo1[0:400,220:600]"
   ]
  },
  {
   "cell_type": "code",
   "execution_count": 57,
   "id": "9741f170",
   "metadata": {},
   "outputs": [],
   "source": [
    "cv2.imshow('cropped image1', cr1)\n",
    "cv2.waitKey()\n",
    "cv2.destroyAllWindows()"
   ]
  },
  {
   "cell_type": "code",
   "execution_count": 58,
   "id": "8c52ea89",
   "metadata": {},
   "outputs": [],
   "source": [
    "photo2=cv2.imread('image2.jpg')"
   ]
  },
  {
   "cell_type": "code",
   "execution_count": 59,
   "id": "8f3111f6",
   "metadata": {},
   "outputs": [
    {
     "data": {
      "text/plain": [
       "(460, 300, 3)"
      ]
     },
     "execution_count": 59,
     "metadata": {},
     "output_type": "execute_result"
    }
   ],
   "source": [
    "photo2.shape"
   ]
  },
  {
   "cell_type": "code",
   "execution_count": 60,
   "id": "68e98161",
   "metadata": {},
   "outputs": [],
   "source": [
    "cv2.imshow('image2', photo2)\n",
    "cv2.waitKey()\n",
    "cv2.destroyAllWindows()"
   ]
  },
  {
   "cell_type": "code",
   "execution_count": 61,
   "id": "626572e0",
   "metadata": {},
   "outputs": [],
   "source": [
    "cr2=photo2[0:250,20:400]"
   ]
  },
  {
   "cell_type": "code",
   "execution_count": 62,
   "id": "f11e9545",
   "metadata": {},
   "outputs": [
    {
     "data": {
      "text/plain": [
       "(460, 300, 3)"
      ]
     },
     "execution_count": 62,
     "metadata": {},
     "output_type": "execute_result"
    }
   ],
   "source": [
    "photo2.shape"
   ]
  },
  {
   "cell_type": "code",
   "execution_count": 63,
   "id": "48091fc4",
   "metadata": {},
   "outputs": [],
   "source": [
    "cv2.imshow('cropped image2', cr2)\n",
    "cv2.waitKey()\n",
    "cv2.destroyAllWindows()"
   ]
  },
  {
   "cell_type": "code",
   "execution_count": 64,
   "id": "f77ae1e8",
   "metadata": {},
   "outputs": [
    {
     "data": {
      "text/plain": [
       "(400, 380, 3)"
      ]
     },
     "execution_count": 64,
     "metadata": {},
     "output_type": "execute_result"
    }
   ],
   "source": [
    "cr1.shape"
   ]
  },
  {
   "cell_type": "code",
   "execution_count": 65,
   "id": "eacda2b6",
   "metadata": {},
   "outputs": [
    {
     "data": {
      "text/plain": [
       "(250, 280, 3)"
      ]
     },
     "execution_count": 65,
     "metadata": {},
     "output_type": "execute_result"
    }
   ],
   "source": [
    "cr2.shape"
   ]
  },
  {
   "cell_type": "code",
   "execution_count": 66,
   "id": "eea9e7a0",
   "metadata": {},
   "outputs": [],
   "source": [
    "cr2 = cv2.resize(cr2, (380,400))"
   ]
  },
  {
   "cell_type": "code",
   "execution_count": 67,
   "id": "2c82b180",
   "metadata": {},
   "outputs": [],
   "source": [
    "photo1_orig=photo1"
   ]
  },
  {
   "cell_type": "code",
   "execution_count": 68,
   "id": "ba4f8df5",
   "metadata": {},
   "outputs": [],
   "source": [
    "photo1[20:420,250:630]=cr2"
   ]
  },
  {
   "cell_type": "code",
   "execution_count": 69,
   "id": "59c54e53",
   "metadata": {},
   "outputs": [
    {
     "data": {
      "text/plain": [
       "(720, 1280, 3)"
      ]
     },
     "execution_count": 69,
     "metadata": {},
     "output_type": "execute_result"
    }
   ],
   "source": [
    "photo1.shape"
   ]
  },
  {
   "cell_type": "code",
   "execution_count": 70,
   "id": "d8137e6b",
   "metadata": {},
   "outputs": [],
   "source": [
    "cv2.imshow('swapped image1', photo1)\n",
    "cv2.waitKey()\n",
    "cv2.destroyAllWindows()"
   ]
  },
  {
   "cell_type": "code",
   "execution_count": 71,
   "id": "7b826fff",
   "metadata": {},
   "outputs": [],
   "source": [
    "photo2 = cv2.resize(photo2, (600,500))"
   ]
  },
  {
   "cell_type": "code",
   "execution_count": 72,
   "id": "799ccef2",
   "metadata": {},
   "outputs": [],
   "source": [
    "photo1_orig=cv2.imread('image1.jpg')"
   ]
  },
  {
   "cell_type": "code",
   "execution_count": 73,
   "id": "9f8e72aa",
   "metadata": {},
   "outputs": [],
   "source": [
    "cr1_new=photo1_orig[0:400,220:600]"
   ]
  },
  {
   "cell_type": "code",
   "execution_count": 74,
   "id": "ed9380d9",
   "metadata": {},
   "outputs": [],
   "source": [
    "cr1_new= cv2.resize(cr1_new, (400,300))"
   ]
  },
  {
   "cell_type": "code",
   "execution_count": 75,
   "id": "320fe87c",
   "metadata": {},
   "outputs": [],
   "source": [
    "photo2[0:300,100:500]=cr1_new"
   ]
  },
  {
   "cell_type": "code",
   "execution_count": 76,
   "id": "08f3a8c8",
   "metadata": {},
   "outputs": [],
   "source": [
    "cv2.imshow('swapped image2', photo2)\n",
    "cv2.waitKey()\n",
    "cv2.destroyAllWindows()"
   ]
  },
  {
   "cell_type": "code",
   "execution_count": null,
   "id": "aa9eae41",
   "metadata": {},
   "outputs": [],
   "source": []
  }
 ],
 "metadata": {
  "kernelspec": {
   "display_name": "Python 3",
   "language": "python",
   "name": "python3"
  },
  "language_info": {
   "codemirror_mode": {
    "name": "ipython",
    "version": 3
   },
   "file_extension": ".py",
   "mimetype": "text/x-python",
   "name": "python",
   "nbconvert_exporter": "python",
   "pygments_lexer": "ipython3",
   "version": "3.8.8"
  }
 },
 "nbformat": 4,
 "nbformat_minor": 5
}
